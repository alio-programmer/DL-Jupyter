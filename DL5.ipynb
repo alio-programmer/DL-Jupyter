{
 "cells": [
  {
   "cell_type": "raw",
   "id": "ef53d449",
   "metadata": {},
   "source": [
    "Implement the Continuous Bag of Words (CBOW) Model. Stages can be: \n",
    "    a. Data preparation \n",
    "    b. Generate training data \n",
    "    c. Train model \n",
    "    d. Output"
   ]
  },
  {
   "cell_type": "code",
   "execution_count": 3,
   "id": "3217fd93",
   "metadata": {},
   "outputs": [],
   "source": [
    "# #importing libraries\n",
    "# import warnings\n",
    "# warnings.filterwarnings(\"ignore\")\n",
    "from tensorflow.keras.preprocessing import text\n",
    "from tensorflow.keras.utils import to_categorical as np_utils\n",
    "from tensorflow.keras.preprocessing import sequence\n",
    "from tensorflow.keras.utils import pad_sequences\n",
    "import numpy as np\n",
    "import pandas as pd"
   ]
  },
  {
   "cell_type": "code",
   "execution_count": 4,
   "id": "59dd3925",
   "metadata": {},
   "outputs": [],
   "source": [
    "#taking random sentences as data\n",
    "data = \"\"\"Deep learning (also known as deep structured learning) is part of a broader family of machine learning methods based on artificial neural networks with representation learning. Learning can be supervised, semi-supervised or unsupervised. \n",
    "Deep-learning architectures such as deep neural networks, deep belief networks, deep reinforcement learning, recurrent neural networks, convolutional neural networks and Transformers have been applied to fields including computer vision, speech recognition, natural language processing, machine translation, bioinformatics, drug design, medical image analysis, climate science, material inspection and board game programs, where they have produced results comparable to and in some cases surpassing human expert performance.\n",
    "\"\"\"\n",
    "dl_data = data.split()"
   ]
  },
  {
   "cell_type": "code",
   "execution_count": 5,
   "id": "1b30edd4",
   "metadata": {},
   "outputs": [
    {
     "name": "stdout",
     "output_type": "stream",
     "text": [
      "Vocabulary Size: 75\n",
      "Vocabulary Sample: [('learning', 1), ('deep', 2), ('networks', 3), ('neural', 4), ('and', 5), ('as', 6), ('of', 7), ('machine', 8), ('supervised', 9), ('have', 10)]\n"
     ]
    }
   ],
   "source": [
    "#tokenization\n",
    "tokenizer = text.Tokenizer()\n",
    "tokenizer.fit_on_texts(dl_data)\n",
    "word2id = tokenizer.word_index\n",
    "\n",
    "word2id['PAD'] = 0\n",
    "id2word = {v:k for k, v in word2id.items()}\n",
    "wids = [[word2id[w] for w in text.text_to_word_sequence(doc)] for doc in dl_data]\n",
    "\n",
    "vocab_size = len(word2id)\n",
    "embed_size = 100\n",
    "window_size = 2 \n",
    "\n",
    "print('Vocabulary Size:', vocab_size)\n",
    "print('Vocabulary Sample:', list(word2id.items())[:10])"
   ]
  },
  {
   "cell_type": "code",
   "execution_count": 6,
   "id": "b43ffb94",
   "metadata": {},
   "outputs": [],
   "source": [
    "#generating (context word, target/label word) pairs\n",
    "def generate_context_word_pairs(corpus, window_size, vocab_size):\n",
    "    context_length = window_size*2\n",
    "    for words in corpus:\n",
    "        sentence_length = len(words)\n",
    "        for index, word in enumerate(words):\n",
    "            context_words = []\n",
    "            label_word   = []            \n",
    "            start = index - window_size\n",
    "            end = index + window_size + 1\n",
    "            \n",
    "            context_words.append([words[i] \n",
    "                                 for i in range(start, end) \n",
    "                                 if 0 <= i < sentence_length \n",
    "                                 and i != index])\n",
    "            label_word.append(word)\n",
    "\n",
    "            x = pad_sequences(context_words, maxlen=context_length)\n",
    "            y = np_utils(label_word, vocab_size)\n",
    "            yield (x, y)\n",
    "            \n",
    "i = 0\n",
    "for x, y in generate_context_word_pairs(corpus=wids, window_size=window_size, vocab_size=vocab_size):\n",
    "    if 0 not in x[0]:\n",
    "        # print('Context (X):', [id2word[w] for w in x[0]], '-> Target (Y):', id2word[np.argwhere(y[0])[0][0]])\n",
    "    \n",
    "        if i == 10:\n",
    "            break\n",
    "        i += 1"
   ]
  },
  {
   "cell_type": "code",
   "execution_count": 7,
   "id": "08ec0118",
   "metadata": {},
   "outputs": [
    {
     "name": "stdout",
     "output_type": "stream",
     "text": [
      "Model: \"sequential\"\n",
      "_________________________________________________________________\n",
      " Layer (type)                Output Shape              Param #   \n",
      "=================================================================\n",
      " embedding (Embedding)       (None, 4, 100)            7500      \n",
      "                                                                 \n",
      " lambda (Lambda)             (None, 100)               0         \n",
      "                                                                 \n",
      " dense (Dense)               (None, 75)                7575      \n",
      "                                                                 \n",
      "=================================================================\n",
      "Total params: 15,075\n",
      "Trainable params: 15,075\n",
      "Non-trainable params: 0\n",
      "_________________________________________________________________\n",
      "None\n"
     ]
    }
   ],
   "source": [
    "#model building\n",
    "import tensorflow.keras.backend as K\n",
    "from tensorflow.keras.models import Sequential\n",
    "from tensorflow.keras.layers import Dense, Embedding, Lambda\n",
    "\n",
    "cbow = Sequential()\n",
    "cbow.add(Embedding(input_dim=vocab_size, output_dim=embed_size, input_length=window_size*2))\n",
    "cbow.add(Lambda(lambda x: K.mean(x, axis=1), output_shape=(embed_size,)))\n",
    "cbow.add(Dense(vocab_size, activation='softmax'))\n",
    "cbow.compile(loss='categorical_crossentropy', optimizer='adam', metrics=[\"accuracy\"])\n",
    "\n",
    "print(cbow.summary())\n",
    "\n",
    "# from IPython.display import SVG\n",
    "# from keras.utils.vis_utils import model_to_dot\n",
    "\n",
    "# SVG(model_to_dot(cbow, show_shapes=True, show_layer_names=False, rankdir='TB').create(prog='dot', format='svg'))"
   ]
  },
  {
   "cell_type": "code",
   "execution_count": 8,
   "id": "c84dd1b9",
   "metadata": {},
   "outputs": [
    {
     "name": "stdout",
     "output_type": "stream",
     "text": [
      "Epoch 1/10\n",
      "1/1 [==============================] - 3s 3s/step - loss: 4.3417 - accuracy: 0.0000e+00\n",
      "Epoch 2/10\n",
      "1/1 [==============================] - 0s 16ms/step - loss: 4.3260 - accuracy: 0.0000e+00\n",
      "Epoch 3/10\n",
      "1/1 [==============================] - 0s 12ms/step - loss: 4.3103 - accuracy: 0.0000e+00\n",
      "Epoch 4/10\n",
      "1/1 [==============================] - 0s 14ms/step - loss: 4.2946 - accuracy: 0.0000e+00\n",
      "Epoch 5/10\n",
      "1/1 [==============================] - 0s 11ms/step - loss: 4.2790 - accuracy: 0.0000e+00\n",
      "Epoch 6/10\n",
      "1/1 [==============================] - 0s 10ms/step - loss: 4.2633 - accuracy: 0.0000e+00\n",
      "Epoch 7/10\n",
      "1/1 [==============================] - 0s 11ms/step - loss: 4.2477 - accuracy: 0.0000e+00\n",
      "Epoch 8/10\n",
      "1/1 [==============================] - 0s 12ms/step - loss: 4.2321 - accuracy: 1.0000\n",
      "Epoch 9/10\n",
      "1/1 [==============================] - 0s 11ms/step - loss: 4.2165 - accuracy: 1.0000\n",
      "Epoch 10/10\n",
      "1/1 [==============================] - 0s 12ms/step - loss: 4.2008 - accuracy: 1.0000\n"
     ]
    },
    {
     "data": {
      "text/plain": [
       "<keras.callbacks.History at 0x23b30a24ee0>"
      ]
     },
     "execution_count": 8,
     "metadata": {},
     "output_type": "execute_result"
    }
   ],
   "source": [
    "cbow.fit(x, y, epochs=10, verbose=1)"
   ]
  },
  {
   "cell_type": "code",
   "execution_count": 9,
   "id": "ea90a396",
   "metadata": {},
   "outputs": [
    {
     "name": "stdout",
     "output_type": "stream",
     "text": [
      "(74, 100)\n"
     ]
    },
    {
     "data": {
      "text/html": [
       "<div>\n",
       "<style scoped>\n",
       "    .dataframe tbody tr th:only-of-type {\n",
       "        vertical-align: middle;\n",
       "    }\n",
       "\n",
       "    .dataframe tbody tr th {\n",
       "        vertical-align: top;\n",
       "    }\n",
       "\n",
       "    .dataframe thead th {\n",
       "        text-align: right;\n",
       "    }\n",
       "</style>\n",
       "<table border=\"1\" class=\"dataframe\">\n",
       "  <thead>\n",
       "    <tr style=\"text-align: right;\">\n",
       "      <th></th>\n",
       "      <th>0</th>\n",
       "      <th>1</th>\n",
       "      <th>2</th>\n",
       "      <th>3</th>\n",
       "      <th>4</th>\n",
       "      <th>5</th>\n",
       "      <th>6</th>\n",
       "      <th>7</th>\n",
       "      <th>8</th>\n",
       "      <th>9</th>\n",
       "      <th>...</th>\n",
       "      <th>90</th>\n",
       "      <th>91</th>\n",
       "      <th>92</th>\n",
       "      <th>93</th>\n",
       "      <th>94</th>\n",
       "      <th>95</th>\n",
       "      <th>96</th>\n",
       "      <th>97</th>\n",
       "      <th>98</th>\n",
       "      <th>99</th>\n",
       "    </tr>\n",
       "  </thead>\n",
       "  <tbody>\n",
       "    <tr>\n",
       "      <th>deep</th>\n",
       "      <td>0.024132</td>\n",
       "      <td>-0.042009</td>\n",
       "      <td>0.024559</td>\n",
       "      <td>-0.013954</td>\n",
       "      <td>-0.029109</td>\n",
       "      <td>0.021673</td>\n",
       "      <td>0.004279</td>\n",
       "      <td>-0.022791</td>\n",
       "      <td>0.020432</td>\n",
       "      <td>0.018128</td>\n",
       "      <td>...</td>\n",
       "      <td>-0.007464</td>\n",
       "      <td>0.047869</td>\n",
       "      <td>0.039061</td>\n",
       "      <td>-0.019290</td>\n",
       "      <td>-0.015061</td>\n",
       "      <td>0.009768</td>\n",
       "      <td>0.041710</td>\n",
       "      <td>0.026451</td>\n",
       "      <td>-0.005080</td>\n",
       "      <td>-0.014420</td>\n",
       "    </tr>\n",
       "    <tr>\n",
       "      <th>networks</th>\n",
       "      <td>-0.046398</td>\n",
       "      <td>-0.033725</td>\n",
       "      <td>-0.016914</td>\n",
       "      <td>0.048352</td>\n",
       "      <td>0.029887</td>\n",
       "      <td>0.029180</td>\n",
       "      <td>-0.044961</td>\n",
       "      <td>-0.037505</td>\n",
       "      <td>0.048768</td>\n",
       "      <td>-0.044508</td>\n",
       "      <td>...</td>\n",
       "      <td>0.046418</td>\n",
       "      <td>0.030682</td>\n",
       "      <td>0.041191</td>\n",
       "      <td>-0.045340</td>\n",
       "      <td>0.006757</td>\n",
       "      <td>0.008462</td>\n",
       "      <td>0.021942</td>\n",
       "      <td>0.039475</td>\n",
       "      <td>-0.045283</td>\n",
       "      <td>0.037872</td>\n",
       "    </tr>\n",
       "    <tr>\n",
       "      <th>neural</th>\n",
       "      <td>0.027256</td>\n",
       "      <td>-0.019561</td>\n",
       "      <td>0.044410</td>\n",
       "      <td>0.039478</td>\n",
       "      <td>-0.015387</td>\n",
       "      <td>-0.017385</td>\n",
       "      <td>-0.018509</td>\n",
       "      <td>-0.049695</td>\n",
       "      <td>-0.025414</td>\n",
       "      <td>0.041414</td>\n",
       "      <td>...</td>\n",
       "      <td>-0.041284</td>\n",
       "      <td>-0.004338</td>\n",
       "      <td>-0.012553</td>\n",
       "      <td>-0.000168</td>\n",
       "      <td>-0.049402</td>\n",
       "      <td>0.020657</td>\n",
       "      <td>0.027419</td>\n",
       "      <td>0.046027</td>\n",
       "      <td>0.040403</td>\n",
       "      <td>-0.003116</td>\n",
       "    </tr>\n",
       "    <tr>\n",
       "      <th>and</th>\n",
       "      <td>0.022697</td>\n",
       "      <td>0.017778</td>\n",
       "      <td>0.017083</td>\n",
       "      <td>0.045327</td>\n",
       "      <td>-0.028970</td>\n",
       "      <td>0.001203</td>\n",
       "      <td>0.021739</td>\n",
       "      <td>-0.049963</td>\n",
       "      <td>-0.023419</td>\n",
       "      <td>0.018857</td>\n",
       "      <td>...</td>\n",
       "      <td>-0.023548</td>\n",
       "      <td>0.019224</td>\n",
       "      <td>-0.012165</td>\n",
       "      <td>0.048842</td>\n",
       "      <td>-0.017029</td>\n",
       "      <td>0.017034</td>\n",
       "      <td>0.016299</td>\n",
       "      <td>-0.021936</td>\n",
       "      <td>0.022835</td>\n",
       "      <td>-0.020572</td>\n",
       "    </tr>\n",
       "    <tr>\n",
       "      <th>as</th>\n",
       "      <td>-0.039427</td>\n",
       "      <td>0.046484</td>\n",
       "      <td>0.013791</td>\n",
       "      <td>0.022227</td>\n",
       "      <td>-0.025365</td>\n",
       "      <td>-0.020873</td>\n",
       "      <td>-0.002624</td>\n",
       "      <td>0.037672</td>\n",
       "      <td>0.039645</td>\n",
       "      <td>0.000126</td>\n",
       "      <td>...</td>\n",
       "      <td>0.003424</td>\n",
       "      <td>-0.047524</td>\n",
       "      <td>0.006624</td>\n",
       "      <td>-0.034221</td>\n",
       "      <td>0.019509</td>\n",
       "      <td>0.016030</td>\n",
       "      <td>-0.014215</td>\n",
       "      <td>-0.020435</td>\n",
       "      <td>0.008452</td>\n",
       "      <td>-0.014945</td>\n",
       "    </tr>\n",
       "  </tbody>\n",
       "</table>\n",
       "<p>5 rows × 100 columns</p>\n",
       "</div>"
      ],
      "text/plain": [
       "                0         1         2         3         4         5   \\\n",
       "deep      0.024132 -0.042009  0.024559 -0.013954 -0.029109  0.021673   \n",
       "networks -0.046398 -0.033725 -0.016914  0.048352  0.029887  0.029180   \n",
       "neural    0.027256 -0.019561  0.044410  0.039478 -0.015387 -0.017385   \n",
       "and       0.022697  0.017778  0.017083  0.045327 -0.028970  0.001203   \n",
       "as       -0.039427  0.046484  0.013791  0.022227 -0.025365 -0.020873   \n",
       "\n",
       "                6         7         8         9   ...        90        91  \\\n",
       "deep      0.004279 -0.022791  0.020432  0.018128  ... -0.007464  0.047869   \n",
       "networks -0.044961 -0.037505  0.048768 -0.044508  ...  0.046418  0.030682   \n",
       "neural   -0.018509 -0.049695 -0.025414  0.041414  ... -0.041284 -0.004338   \n",
       "and       0.021739 -0.049963 -0.023419  0.018857  ... -0.023548  0.019224   \n",
       "as       -0.002624  0.037672  0.039645  0.000126  ...  0.003424 -0.047524   \n",
       "\n",
       "                92        93        94        95        96        97  \\\n",
       "deep      0.039061 -0.019290 -0.015061  0.009768  0.041710  0.026451   \n",
       "networks  0.041191 -0.045340  0.006757  0.008462  0.021942  0.039475   \n",
       "neural   -0.012553 -0.000168 -0.049402  0.020657  0.027419  0.046027   \n",
       "and      -0.012165  0.048842 -0.017029  0.017034  0.016299 -0.021936   \n",
       "as        0.006624 -0.034221  0.019509  0.016030 -0.014215 -0.020435   \n",
       "\n",
       "                98        99  \n",
       "deep     -0.005080 -0.014420  \n",
       "networks -0.045283  0.037872  \n",
       "neural    0.040403 -0.003116  \n",
       "and       0.022835 -0.020572  \n",
       "as        0.008452 -0.014945  \n",
       "\n",
       "[5 rows x 100 columns]"
      ]
     },
     "execution_count": 9,
     "metadata": {},
     "output_type": "execute_result"
    }
   ],
   "source": [
    "weights = cbow.get_weights()[0]\n",
    "weights = weights[1:]\n",
    "print(weights.shape)\n",
    "\n",
    "pd.DataFrame(weights, index=list(id2word.values())[1:]).head()"
   ]
  },
  {
   "cell_type": "code",
   "execution_count": 11,
   "id": "7ce9f671",
   "metadata": {},
   "outputs": [
    {
     "name": "stdout",
     "output_type": "stream",
     "text": [
      "(74, 74)\n"
     ]
    },
    {
     "data": {
      "text/plain": [
       "{'networks': ['in', 'learning', 'game', 'applied', 'medical']}"
      ]
     },
     "execution_count": 11,
     "metadata": {},
     "output_type": "execute_result"
    }
   ],
   "source": [
    "from sklearn.metrics.pairwise import euclidean_distances\n",
    "\n",
    "distance_matrix = euclidean_distances(weights)\n",
    "print(distance_matrix.shape)\n",
    "\n",
    "\n",
    "similar_words = {search_term: [id2word[idx] for idx in distance_matrix[word2id[search_term]-1].argsort()[1:6]+1] \n",
    "                   for search_term in ['networks']}\n",
    "\n",
    "similar_words"
   ]
  },
  {
   "cell_type": "code",
   "execution_count": null,
   "id": "990b4343",
   "metadata": {},
   "outputs": [],
   "source": []
  }
 ],
 "metadata": {
  "kernelspec": {
   "display_name": "Python 3 (ipykernel)",
   "language": "python",
   "name": "python3"
  },
  "language_info": {
   "codemirror_mode": {
    "name": "ipython",
    "version": 3
   },
   "file_extension": ".py",
   "mimetype": "text/x-python",
   "name": "python",
   "nbconvert_exporter": "python",
   "pygments_lexer": "ipython3",
   "version": "3.9.7"
  }
 },
 "nbformat": 4,
 "nbformat_minor": 5
}
