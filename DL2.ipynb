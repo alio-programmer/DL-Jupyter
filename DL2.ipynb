{
 "cells": [
  {
   "cell_type": "markdown",
   "id": "1427a278",
   "metadata": {},
   "source": [
    "Implementing Feedforward neural networks with Keras and TensorFlow \n",
    "a. Import the necessary packages \n",
    "b. Load the training and testing data (MNIST/CIFAR10) \n",
    "c. Define the network architecture using Keras \n",
    "d. Train the model using SGD \n",
    "e. Evaluate the network \n",
    "f. Plot the training loss and accuracy"
   ]
  },
  {
   "cell_type": "code",
   "execution_count": 1,
   "id": "8501c2f1",
   "metadata": {},
   "outputs": [],
   "source": [
    "#installations\n",
    "from sklearn.preprocessing import LabelBinarizer\n",
    "from sklearn.metrics import classification_report\n",
    "from tensorflow.keras.models import Sequential\n",
    "from tensorflow.keras.layers import Dense\n",
    "from tensorflow.keras.optimizers import SGD\n",
    "from tensorflow.keras.datasets import mnist\n",
    "from tensorflow.keras import backend as K\n",
    "import matplotlib.pyplot as plt\n",
    "import numpy as np\n",
    "import warnings\n",
    "warnings.filterwarnings(\"ignore\")"
   ]
  },
  {
   "cell_type": "code",
   "execution_count": 8,
   "id": "0e119239",
   "metadata": {},
   "outputs": [],
   "source": [
    "#grabbing the mnist dataset\n",
    "((X_train, Y_train), (X_test, Y_test)) = mnist.load_data()\n",
    "X_train = X_train.reshape((X_train.shape[0], 28 * 28 * 1))\n",
    "X_test = X_test.reshape((X_test.shape[0], 28 * 28 * 1))\n",
    "X_train = X_train / 255.0\n",
    "X_test = X_test / 255.0"
   ]
  },
  {
   "cell_type": "code",
   "execution_count": 9,
   "id": "2e1bd149",
   "metadata": {},
   "outputs": [],
   "source": [
    "lb = LabelBinarizer()\n",
    "Y_train = lb.fit_transform(Y_train)\n",
    "Y_test = lb.transform(Y_test)"
   ]
  },
  {
   "cell_type": "code",
   "execution_count": 10,
   "id": "a6ac9ef4",
   "metadata": {},
   "outputs": [],
   "source": [
    "#building the model\n",
    "model = Sequential()\n",
    "model.add(Dense(128, input_shape=(784,), activation=\"relu\"))\n",
    "model.add(Dense(64, activation=\"relu\"))\n",
    "model.add(Dense(10, activation=\"softmax\"))"
   ]
  },
  {
   "cell_type": "code",
   "execution_count": 11,
   "id": "5adcab82",
   "metadata": {},
   "outputs": [
    {
     "name": "stdout",
     "output_type": "stream",
     "text": [
      "Epoch 1/20\n",
      "938/938 [==============================] - 5s 5ms/step - loss: 0.6236 - accuracy: 0.8352 - val_loss: 0.3127 - val_accuracy: 0.9107\n",
      "Epoch 2/20\n",
      "938/938 [==============================] - 4s 4ms/step - loss: 0.2904 - accuracy: 0.9171 - val_loss: 0.2568 - val_accuracy: 0.9270\n",
      "Epoch 3/20\n",
      "938/938 [==============================] - 4s 5ms/step - loss: 0.2384 - accuracy: 0.9311 - val_loss: 0.2141 - val_accuracy: 0.9372\n",
      "Epoch 4/20\n",
      "938/938 [==============================] - 4s 5ms/step - loss: 0.2047 - accuracy: 0.9420 - val_loss: 0.1896 - val_accuracy: 0.9447\n",
      "Epoch 5/20\n",
      "938/938 [==============================] - 4s 5ms/step - loss: 0.1791 - accuracy: 0.9489 - val_loss: 0.1707 - val_accuracy: 0.9488\n",
      "Epoch 6/20\n",
      "938/938 [==============================] - 4s 4ms/step - loss: 0.1596 - accuracy: 0.9548 - val_loss: 0.1534 - val_accuracy: 0.9551\n",
      "Epoch 7/20\n",
      "938/938 [==============================] - 4s 4ms/step - loss: 0.1431 - accuracy: 0.9597 - val_loss: 0.1387 - val_accuracy: 0.9583\n",
      "Epoch 8/20\n",
      "938/938 [==============================] - 4s 4ms/step - loss: 0.1303 - accuracy: 0.9629 - val_loss: 0.1318 - val_accuracy: 0.9617\n",
      "Epoch 9/20\n",
      "938/938 [==============================] - 4s 4ms/step - loss: 0.1192 - accuracy: 0.9661 - val_loss: 0.1238 - val_accuracy: 0.9642\n",
      "Epoch 10/20\n",
      "938/938 [==============================] - 4s 4ms/step - loss: 0.1098 - accuracy: 0.9687 - val_loss: 0.1125 - val_accuracy: 0.9665\n",
      "Epoch 11/20\n",
      "938/938 [==============================] - 4s 4ms/step - loss: 0.1016 - accuracy: 0.9713 - val_loss: 0.1077 - val_accuracy: 0.9674\n",
      "Epoch 12/20\n",
      "938/938 [==============================] - 4s 4ms/step - loss: 0.0947 - accuracy: 0.9734 - val_loss: 0.1068 - val_accuracy: 0.9681\n",
      "Epoch 13/20\n",
      "938/938 [==============================] - 4s 5ms/step - loss: 0.0882 - accuracy: 0.9749 - val_loss: 0.0988 - val_accuracy: 0.9702\n",
      "Epoch 14/20\n",
      "938/938 [==============================] - 4s 5ms/step - loss: 0.0826 - accuracy: 0.9766 - val_loss: 0.1034 - val_accuracy: 0.9690\n",
      "Epoch 15/20\n",
      "938/938 [==============================] - 4s 4ms/step - loss: 0.0776 - accuracy: 0.9780 - val_loss: 0.0924 - val_accuracy: 0.9725\n",
      "Epoch 16/20\n",
      "938/938 [==============================] - 4s 4ms/step - loss: 0.0727 - accuracy: 0.9793 - val_loss: 0.0899 - val_accuracy: 0.9736\n",
      "Epoch 17/20\n",
      "938/938 [==============================] - 4s 4ms/step - loss: 0.0690 - accuracy: 0.9805 - val_loss: 0.0867 - val_accuracy: 0.9732\n",
      "Epoch 18/20\n",
      "938/938 [==============================] - 4s 4ms/step - loss: 0.0647 - accuracy: 0.9819 - val_loss: 0.0882 - val_accuracy: 0.9740\n",
      "Epoch 19/20\n",
      "938/938 [==============================] - 4s 4ms/step - loss: 0.0613 - accuracy: 0.9829 - val_loss: 0.0842 - val_accuracy: 0.9733\n",
      "Epoch 20/20\n",
      "938/938 [==============================] - 4s 4ms/step - loss: 0.0582 - accuracy: 0.9841 - val_loss: 0.0820 - val_accuracy: 0.9753\n"
     ]
    }
   ],
   "source": [
    "sgd = SGD(0.02)\n",
    "epochs=20\n",
    "model.compile(loss=\"categorical_crossentropy\", optimizer=sgd,metrics=[\"accuracy\"])\n",
    "H = model.fit(X_train, Y_train, validation_data=(X_test, Y_test),epochs=epochs, batch_size=64)"
   ]
  },
  {
   "cell_type": "code",
   "execution_count": 6,
   "id": "a5463f0e",
   "metadata": {},
   "outputs": [
    {
     "name": "stdout",
     "output_type": "stream",
     "text": [
      "79/79 [==============================] - 0s 3ms/step\n",
      "              precision    recall  f1-score   support\n",
      "\n",
      "           0       0.97      0.99      0.98       980\n",
      "           1       0.99      0.99      0.99      1135\n",
      "           2       0.97      0.97      0.97      1032\n",
      "           3       0.97      0.98      0.97      1010\n",
      "           4       0.97      0.97      0.97       982\n",
      "           5       0.98      0.96      0.97       892\n",
      "           6       0.98      0.97      0.98       958\n",
      "           7       0.98      0.97      0.97      1028\n",
      "           8       0.96      0.97      0.96       974\n",
      "           9       0.96      0.97      0.96      1009\n",
      "\n",
      "    accuracy                           0.97     10000\n",
      "   macro avg       0.97      0.97      0.97     10000\n",
      "weighted avg       0.97      0.97      0.97     10000\n",
      "\n"
     ]
    }
   ],
   "source": [
    "#making the predictions\n",
    "predictions = model.predict(X_test, batch_size=128)\n",
    "print(classification_report(Y_test.argmax(axis=1),predictions.argmax(axis=1),target_names=[str(x) for x in lb.classes_]))"
   ]
  },
  {
   "cell_type": "code",
   "execution_count": 7,
   "id": "01a2c4cd",
   "metadata": {},
   "outputs": [
    {
     "data": {
      "text/plain": [
       "<matplotlib.legend.Legend at 0x15dd51faa00>"
      ]
     },
     "execution_count": 7,
     "metadata": {},
     "output_type": "execute_result"
    },
    {
     "data": {
      "image/png": "[encoded data removed]",
      "text/plain": [
       "<Figure size 432x288 with 1 Axes>"
      ]
     },
     "metadata": {},
     "output_type": "display_data"
    }
   ],
   "source": [
    "#plotting the training loss and accuracy\n",
    "plt.style.use(\"ggplot\")\n",
    "plt.figure()\n",
    "plt.plot(np.arange(0, epochs), H.history[\"loss\"], label=\"train_loss\")\n",
    "plt.plot(np.arange(0, epochs), H.history[\"val_loss\"], label=\"val_loss\")\n",
    "plt.plot(np.arange(0, epochs), H.history[\"accuracy\"], label=\"train_acc\")\n",
    "plt.plot(np.arange(0, epochs), H.history[\"val_accuracy\"], label=\"val_acc\")\n",
    "plt.title(\"Training Loss and Accuracy\")\n",
    "plt.xlabel(\"Epoch #\")\n",
    "plt.ylabel(\"Loss/Accuracy\")\n",
    "plt.legend()"
   ]
  }
 ],
 "metadata": {
  "kernelspec": {
   "display_name": "Python 3 (ipykernel)",
   "language": "python",
   "name": "python3"
  },
  "language_info": {
   "codemirror_mode": {
    "name": "ipython",
    "version": 3
   },
   "file_extension": ".py",
   "mimetype": "text/x-python",
   "name": "python",
   "nbconvert_exporter": "python",
   "pygments_lexer": "ipython3",
   "version": "3.9.7"
  }
 },
 "nbformat": 4,
 "nbformat_minor": 5
}
